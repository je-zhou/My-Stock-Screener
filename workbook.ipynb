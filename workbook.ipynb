{
 "cells": [
  {
   "cell_type": "code",
   "execution_count": 28,
   "metadata": {},
   "outputs": [],
   "source": [
    "### Installing packages\n",
    "# pip install selenium\n",
    "# pip install webdrive_manager\n",
    "# pip install yfinance\n",
    "\n",
    "# Import packages\n",
    "import yfinance as yf\n",
    "import requests\n",
    "\n",
    "from selenium import webdriver \n",
    "from selenium.webdriver.chrome.service import Service as ChromeService \n",
    "from selenium.webdriver.common.by import By\n",
    "from webdriver_manager.chrome import ChromeDriverManager"
   ]
  },
  {
   "attachments": {},
   "cell_type": "markdown",
   "metadata": {},
   "source": [
    "### Strategy\n",
    "\n",
    "The stock screening strategy below is designed to complement the VWAP and ABCD pattern day trading strategies outlined in the book \"Day Trading for a Living\" by\n",
    "\n",
    "#### Pre-Market Gappers\n",
    "Criteria for the Gappers Scanner includes:\n",
    "- Stocks that in the pre-market gapped up or down at least 2%\n",
    "- Stocks that have traded at least 100,000 shares by 9am in pre-market\n",
    "- Stocks that have an average daily volume of over 500,000 shares\n",
    "- Stocks that have Average True Range (ATR) of at least 50 cents\n",
    "- There is a fundamental catalyst for the stock\n",
    "\n",
    "#### Additional Filter\n",
    "We will filter for only Medium Float stocks (20 to 500 million shares) with a price range between $10-$100 and Large float stocks (500+ million shares) with a price range > $20. These stock work best with the VWAP and ABCD pattern trading strategies.\n",
    "\n",
    "#### Human Screen\n",
    "I will review the output manually and do my own research into whether there is a fundamental catalyst for the stock\n"
   ]
  },
  {
   "cell_type": "code",
   "execution_count": 29,
   "metadata": {},
   "outputs": [],
   "source": [
    "\n",
    "# Initialising Selenium and setting options\n",
    "options = webdriver.ChromeOptions() \n",
    "options.headless = True \n",
    "driver = webdriver.Chrome(service=ChromeService(ChromeDriverManager().install())) "
   ]
  },
  {
   "cell_type": "code",
   "execution_count": 30,
   "metadata": {},
   "outputs": [],
   "source": [
    "# Lets begin by webscraping a list of the top 100 losers and top 100 gainers for the day\n",
    "\n",
    "# Gainers\n",
    "t100_gainers_url = \"https://finance.yahoo.com/screener/predefined/day_gainers?count=100&offset=0\"\n",
    "\n",
    "# Losers\n",
    "t100_losers_url = \"https://finance.yahoo.com/screener/predefined/day_losers?count=100&offset=0\"\n",
    "\n",
    "def scrape_gappers(url, driver):\n",
    "    driver.get(url)\n",
    "    gappers_ele = driver.find_elements(By.XPATH, '//td[@aria-label=\"Symbol\"]')\n",
    "    gappers_str = list(map(lambda ele: ele.text, gappers_ele))\n",
    "    print(gappers_str)"
   ]
  },
  {
   "cell_type": "code",
   "execution_count": 31,
   "metadata": {},
   "outputs": [
    {
     "name": "stdout",
     "output_type": "stream",
     "text": [
      "['China Tower Corporation Limited', 'AMC Entertainment Holdings, Inc.', 'Lerøy Seafood Group ASA', 'HUTCHMED (China) Limited', 'BeiGene, Ltd.', 'Ginkgo Bioworks Holdings, Inc.', 'NaaS Technology Inc.', 'Atour Lifestyle Holdings Limited', 'C3.ai, Inc.', 'Getty Images Holdings, Inc.', 'ProKidney Corp.', 'DLocal Limited', 'Lufax Holding Ltd', 'Krystal Biotech, Inc.', 'Alibaba Health Information Technology Limited', 'Air China Limited', 'Legend Biotech Corporation', 'Vonovia SE', 'Columbia Banking System, Inc.', 'PT Bank Central Asia Tbk', 'Telecom Argentina S.A.', 'Cielo S.A.', 'Easterly Government Properties, Inc.', 'ZTE Corporation', 'Catalent, Inc.', 'Luckin Coffee Inc.', 'Grifols, S.A.', 'DiDi Global Inc.', 'Confluent, Inc.', 'Fluence Energy, Inc.', \"Leslie's, Inc.\", 'Alnylam Pharmaceuticals, Inc.', 'Intra-Cellular Therapies, Inc.', 'Symbotic Inc.', 'Western Alliance Bancorporation', 'Burford Capital Limited', 'Roku, Inc.', 'Madrigal Pharmaceuticals, Inc.', 'BB Seguridade Participações S.A.', 'Symrise AG', 'Genworth Financial, Inc.', 'Chindata Group Holdings Limited', 'First Republic Bank', 'Fox Factory Holding Corp.', 'Relay Therapeutics, Inc.', 'Alibaba Group Holding Limited', 'Immunocore Holdings plc', 'MSP Recovery, Inc.', 'Teck Resources Limited', 'Envestnet, Inc.', 'Prometheus Biosciences, Inc.', 'Haleon plc', 'Ryanair Holdings plc', 'East West Bancorp, Inc.', 'Rumble Inc.', 'Endeavor Group Holdings, Inc.', 'argenx SE', 'Roivant Sciences Ltd.', 'Alphabet Inc.', 'The Trade Desk, Inc.', 'Alphabet Inc.', 'Paramount Global', 'Mirati Therapeutics, Inc.', 'Doximity, Inc.', 'Equitrans Midstream Corporation', 'Sarepta Therapeutics, Inc.', 'Elanco Animal Health Incorporated', 'Hang Lung Properties Limited', 'Arrowhead Pharmaceuticals, Inc.', 'Hong Kong Exchanges and Clearing Limited', 'monday.com Ltd.', 'GDS Holdings Limited', 'Rolls-Royce Holdings plc', 'Enel SpA', 'Comerica Incorporated', 'Supernus Pharmaceuticals, Inc.', 'Blueprint Medicines Corporation', 'Pinterest, Inc.', 'Leonardo DRS, Inc.', 'Sinopharm Group Co. Ltd.', 'H World Group Limited', 'Integral Ad Science Holding Corp.', 'BT Group plc', 'CSPC Pharmaceutical Group Limited', 'Haier Smart Home Co., Ltd.', 'Appian Corporation', 'New Relic, Inc.', 'Takeda Pharmaceutical Company Limited', 'Fidelity National Information Services, Inc.', 'CaixaBank, S.A.', 'Paramount Global', 'BioMarin Pharmaceutical Inc.', 'Vipshop Holdings Limited', 'British Land Company Plc', 'Bombardier Inc.', 'AUO Corporation', 'Sportradar Group AG', 'Meituan', 'Vir Biotechnology, Inc.', 'Thales S.A.']\n"
     ]
    }
   ],
   "source": [
    "\n",
    "scrape_gappers(t100_gainers_url, driver)"
   ]
  }
 ],
 "metadata": {
  "kernelspec": {
   "display_name": "Python 3",
   "language": "python",
   "name": "python3"
  },
  "language_info": {
   "codemirror_mode": {
    "name": "ipython",
    "version": 3
   },
   "file_extension": ".py",
   "mimetype": "text/x-python",
   "name": "python",
   "nbconvert_exporter": "python",
   "pygments_lexer": "ipython3",
   "version": "3.11.1"
  },
  "orig_nbformat": 4
 },
 "nbformat": 4,
 "nbformat_minor": 2
}
