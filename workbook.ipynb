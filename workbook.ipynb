{
 "cells": [
  {
   "cell_type": "code",
   "execution_count": 2,
   "metadata": {},
   "outputs": [],
   "source": [
    "### Installing packages\n",
    "# pip install selenium\n",
    "# pip install webdrive_manager\n",
    "# pip install yfinance\n",
    "\n",
    "# Import packages\n",
    "import yfinance as yf\n",
    "import requests\n",
    "\n",
    "from selenium import webdriver \n",
    "from selenium.webdriver.chrome.service import Service as ChromeService \n",
    "from selenium.webdriver.common.by import By\n",
    "from webdriver_manager.chrome import ChromeDriverManager"
   ]
  },
  {
   "attachments": {},
   "cell_type": "markdown",
   "metadata": {},
   "source": [
    "### Strategy\n",
    "\n",
    "The stock screening strategy below is designed to complement the VWAP and ABCD pattern day trading strategies outlined in the book \"Day Trading for a Living\" by\n",
    "\n",
    "#### Pre-Market Gappers\n",
    "Criteria for the Gappers Scanner includes:\n",
    "- Stocks that in the pre-market gapped up or down at least 2%\n",
    "- Stocks that have traded at least 100,000 shares by 9am in pre-market\n",
    "- Stocks that have an average daily volume of over 500,000 shares\n",
    "- Stocks that have Average True Range (ATR) of at least 50 cents\n",
    "- There is a fundamental catalyst for the stock\n",
    "\n",
    "#### Additional Filter\n",
    "We will filter for only Medium Float stocks (20 to 500 million shares) with a price range between $10-$100 and Large float stocks (500+ million shares) with a price range > $20. These stock work best with the VWAP and ABCD pattern trading strategies.\n",
    "\n",
    "#### Human Screen\n",
    "I will review the output manually and do my own research into whether there is a fundamental catalyst for the stock\n"
   ]
  },
  {
   "cell_type": "code",
   "execution_count": 3,
   "metadata": {},
   "outputs": [
    {
     "name": "stderr",
     "output_type": "stream",
     "text": [
      "[WDM] - Downloading: 100%|██████████| 8.79M/8.79M [00:04<00:00, 2.13MB/s]\n"
     ]
    }
   ],
   "source": [
    "# Initialising Selenium and setting options\n",
    "options = webdriver.ChromeOptions() \n",
    "options.headless = True \n",
    "driver = webdriver.Chrome(service=ChromeService(ChromeDriverManager().install()), options=options) "
   ]
  },
  {
   "cell_type": "code",
   "execution_count": 4,
   "metadata": {},
   "outputs": [],
   "source": [
    "# Lets begin by webscraping a list of the top 100 losers and top 100 gainers for the day\n",
    "\n",
    "# Gainers\n",
    "t100_gainers_url = \"https://finance.yahoo.com/screener/predefined/day_gainers?count=100&offset=0\"\n",
    "\n",
    "# Losers\n",
    "t100_losers_url = \"https://finance.yahoo.com/screener/predefined/day_losers?count=100&offset=0\""
   ]
  },
  {
   "cell_type": "code",
   "execution_count": 5,
   "metadata": {},
   "outputs": [],
   "source": [
    "# Function to scrape list stock symbols from Yahoo Finance's screener list\n",
    "def scrape_gappers(url, driver):\n",
    "    # Load page\n",
    "\tdriver.get(url)\n",
    "    \n",
    "\t# Find row element\n",
    "\trow_eles = driver.find_elements(By.CLASS_NAME, 'simpTblRow')\n",
    "\n",
    "\t# In each row we are interested in the Ticker Symbol and Price. \n",
    "\t# Although we will also be filtering for Volume and Float (Market Cap/Price), we will do this at a later stage once we search for the ticker symbols using the yfinance library. This will save us the trouble of having to parse text with B and M representing billions and millions.\n",
    "\tgappers_list = list(map(row_to_tuple, row_eles))\n",
    "\treturn gappers_list\n",
    "\n",
    "# Function to convert Yahoo Finance row element to a tuple of (Ticker Symbol, Price)\n",
    "def row_to_tuple(row_ele):\n",
    "\t# Getting the Ticker Symbol\n",
    "\tsymbol_ele = row_ele.find_element(By.XPATH,'td[@aria-label=\"Symbol\"]')\n",
    "\tsymbol_str = symbol_ele.text\n",
    "\n",
    "\t# Getting the Price\n",
    "\tprice_ele = row_ele.find_element(By.XPATH,'td[@aria-label=\"Price (Intraday)\"]')\n",
    "\tprice_num = float(price_ele.text)\n",
    "\n",
    "\t# Returning data as a tuple - (Ticker Symbol: String, Price: Float)\n",
    "\treturn (symbol_str, price_num)"
   ]
  },
  {
   "cell_type": "code",
   "execution_count": 6,
   "metadata": {},
   "outputs": [
    {
     "name": "stdout",
     "output_type": "stream",
     "text": [
      "['HCM', 'BGNE', 'NAAS', 'ATAT', 'AI', 'DLO', 'KRYS', 'LEGN', 'COLB', 'DEA', 'CTLT', 'LKNCY', 'CFLT', 'FLNC', 'LESL', 'ALNY', 'ITCI', 'SYM', 'WAL', 'BUR', 'ROKU', 'MDGL', 'SYIEY', 'FRC', 'FOXF', 'RLAY', 'BABA', 'IMCR', 'TECK', 'ENV', 'RXDX', 'RYAAY', 'EWBC', 'EDR', 'ARGX', 'GOOGL', 'TTD', 'GOOG', 'PARAA', 'MRTX', 'DOCS', 'SRPT', 'ARWR', 'HKXCY', 'MNDY', 'GDS', 'CMA', 'SUPN', 'BPMC', 'PINS', 'DRS', 'SHTDY', 'HTHT', 'IAS', 'HSHCY', 'APPN', 'NEWR', 'TAK', 'FIS', 'PARA', 'BMRN', 'VIPS', 'BDRBF', 'SRAD', 'MPNGY', 'VIR']\n",
      "['LEVI', 'LITE', 'PBI-PB', 'FN', 'SMCI', 'ZGN', 'MOS', 'CVCO', 'TTNDF', 'ABNB', 'NTR', 'GTLS', 'WIRE', 'VRT', 'ATKR', 'FMC', 'PBF', 'CPRI', 'UNVGY', 'SIG', 'RPM', 'KBH', 'SPWR', 'ARCH', 'KMTUY', 'BDC', 'SWAV', 'CRK', 'FRO', 'DKILY', 'WCC', 'ARW', 'MDC', 'FJTSY', 'CVE', 'CEQP', 'OLK', 'PCVX', 'DNUT', 'MPC', 'WIX', 'LSRCY', 'AIT', 'PEN', 'LECO', 'SANM', 'NEOG', 'PVH', 'LRLCY', 'BE', 'LGIH', 'TOELY', 'YPF', 'KTB', 'CIEN', 'MTSI', 'PKX']\n"
     ]
    }
   ],
   "source": [
    "# Stock ticker symbols\n",
    "t100_gainers_all = scrape_gappers(t100_gainers_url, driver)\n",
    "t100_losers_all = scrape_gappers(t100_losers_url, driver)\n",
    "\n",
    "### One criteria of the screener is that the price much be above $10. Lets filter these down based on this.\n",
    "\n",
    "# Function to filter Stocks with prices > $10 and return only the Ticker Symbol\n",
    "def stocks_above_10(sym_pri_tuple_lst):\n",
    "\tSYMBOL_TUPLE_INDEX = 0\n",
    "\tPRICE_TUPLE_INDEX = 1\n",
    "\n",
    "\tstocks_above_10 = []\n",
    "\n",
    "\tfor tuple in sym_pri_tuple_lst:\n",
    "\t\tprice = tuple[PRICE_TUPLE_INDEX]\n",
    "\n",
    "\t\tif (price > 10):\n",
    "\t\t\tsymbol = tuple[SYMBOL_TUPLE_INDEX]\n",
    "\t\t\tstocks_above_10.append(symbol)\n",
    "\t\n",
    "\treturn stocks_above_10\n",
    "\n",
    "# Filtered Lists\n",
    "t100_gainers = stocks_above_10(t100_gainers_all)\n",
    "t100_losers = stocks_above_10(t100_losers_all)\n",
    "\n",
    "print(t100_gainers)\n",
    "print(t100_losers)"
   ]
  },
  {
   "cell_type": "code",
   "execution_count": 7,
   "metadata": {},
   "outputs": [],
   "source": [
    "# Great! Now that we have our list of gapping stocks above $10, lets get more detailed information about these with the yfinance package.\n",
    "# We want information in the following data structure (Ticker Symbol: String, Price: float, Change: float, AverageVolume: int, Float: float, AverageTrueRange: float)\n",
    "\n",
    "# Function to get the latest price and average true range\n",
    "def stock_price_atr(tickerdata):\n",
    "    hist = tickerdata.history(interval='5m')\n",
    "    price = hist.iloc[-1,3]\n",
    "    \n",
    "\t# We will use a 14 period price range on the 5 min interval chart to determine the average true range\n",
    "    hist['Range'] = hist['Close'].rolling(14).apply(lambda x: abs(x.iloc[13] - x.iloc[0]))\n",
    "    # Because the trading day is from 9:30AM to 4:00PM, there are total of 78 5 Min intervals. We will use this to calculate the average 14 period 5-min range\n",
    "    NUM_5_MIN_INTERVALS = 78\n",
    "    avg_true_range= hist.tail(78)['range'].mean()\n",
    "    \n",
    "    return price, avg_true_range\n",
    "\n",
    "# Function to convert ticker symbol to (Ticker Symbol: String, Name: String, Price: float, Change: float, AverageVolume: int, Float: float, AverageTrueRange: float) data format\n",
    "def tickers_to_data(tickers, data):\n",
    "\tresult = []\n",
    "        \n",
    "\tfor ticker in tickers:\n",
    "\t\tticker_data = data.tickers[ticker]\n",
    "\n",
    "\t\t### Getting data\n",
    "\t\tinfo = ticker_data.info\n",
    "\n",
    "\t\tname = info['longName']\n",
    "\t\tprice, avg_true_range = stock_price_atr(ticker_data)\n",
    "\t\tchange = info['regularMarketChangePercent']\n",
    "\t\taverage_vol = info['averageDailyVolume10Day']\n",
    "\t\t# Float Calculations\n",
    "\t\tmarket_cap = info['marketCap']\n",
    "\t\tticker_float = market_cap/price\n",
    "\n",
    "\t\t### Apply Filters\n",
    "\t\t# Needs to be at least medium float (> 20 million shares)\n",
    "\t\tfloat_satisfied = ticker_float > 20,000,000\n",
    "\t\t# Needs to have an average volume of > 500,000\n",
    "\t\tavg_vol_satisfied = average_vol > 500,000\n",
    "\t\t# Needs to have a range of > $0.50\n",
    "\t\trange_satisfied = avg_true_range > 0.5\n",
    "\n",
    "\t\tif (float_satisfied and avg_vol_satisfied and range_satisfied):\n",
    "\t\t\tticker_res = (ticker, name, price, change, average_vol, ticker_float, avg_true_range)\n",
    "\t\t\tresult.append(ticker_res)\n",
    "\t\t\n",
    "\t\t# news = ticker_data.news\n",
    "\n",
    "\treturn result\n",
    "\t\n"
   ]
  },
  {
   "cell_type": "code",
   "execution_count": 8,
   "metadata": {},
   "outputs": [
    {
     "name": "stdout",
     "output_type": "stream",
     "text": [
      "['13.9', '14.89']\n",
      "['218.26', '242.38']\n",
      "['10.95', '12.78']\n",
      "['24.24', '26.2']\n",
      "['20.4', '23.86']\n",
      "['12.35', '14.09']\n",
      "['77.865', '84.66']\n",
      "['48.2', '51.31']\n",
      "['20.92', '22.27']\n",
      "['13.29', '14.42']\n",
      "['60.9', '65.635']\n"
     ]
    },
    {
     "ename": "KeyError",
     "evalue": "'postMarketPrice'",
     "output_type": "error",
     "traceback": [
      "\u001b[0;31m---------------------------------------------------------------------------\u001b[0m",
      "\u001b[0;31mKeyError\u001b[0m                                  Traceback (most recent call last)",
      "\u001b[0;32m<ipython-input-8-befb17e5a73b>\u001b[0m in \u001b[0;36m<module>\u001b[0;34m\u001b[0m\n\u001b[1;32m      2\u001b[0m \u001b[0mdata\u001b[0m \u001b[0;34m=\u001b[0m \u001b[0myf\u001b[0m\u001b[0;34m.\u001b[0m\u001b[0mTickers\u001b[0m\u001b[0;34m(\u001b[0m\u001b[0mall_gappers\u001b[0m\u001b[0;34m)\u001b[0m\u001b[0;34m\u001b[0m\u001b[0;34m\u001b[0m\u001b[0m\n\u001b[1;32m      3\u001b[0m \u001b[0;34m\u001b[0m\u001b[0m\n\u001b[0;32m----> 4\u001b[0;31m \u001b[0mresult\u001b[0m \u001b[0;34m=\u001b[0m \u001b[0mtickers_to_data\u001b[0m\u001b[0;34m(\u001b[0m\u001b[0mall_gappers\u001b[0m\u001b[0;34m,\u001b[0m \u001b[0mdata\u001b[0m\u001b[0;34m)\u001b[0m\u001b[0;34m\u001b[0m\u001b[0;34m\u001b[0m\u001b[0m\n\u001b[0m\u001b[1;32m      5\u001b[0m \u001b[0;34m\u001b[0m\u001b[0m\n\u001b[1;32m      6\u001b[0m \u001b[0mprint\u001b[0m\u001b[0;34m(\u001b[0m\u001b[0mresult\u001b[0m\u001b[0;34m)\u001b[0m\u001b[0;34m\u001b[0m\u001b[0;34m\u001b[0m\u001b[0m\n",
      "\u001b[0;32m<ipython-input-7-02f62bad375c>\u001b[0m in \u001b[0;36mtickers_to_data\u001b[0;34m(tickers, data)\u001b[0m\n\u001b[1;32m     13\u001b[0m \u001b[0;34m\u001b[0m\u001b[0m\n\u001b[1;32m     14\u001b[0m                 \u001b[0mname\u001b[0m \u001b[0;34m=\u001b[0m \u001b[0minfo\u001b[0m\u001b[0;34m[\u001b[0m\u001b[0;34m'longName'\u001b[0m\u001b[0;34m]\u001b[0m\u001b[0;34m\u001b[0m\u001b[0;34m\u001b[0m\u001b[0m\n\u001b[0;32m---> 15\u001b[0;31m                 \u001b[0mprice\u001b[0m \u001b[0;34m=\u001b[0m \u001b[0minfo\u001b[0m\u001b[0;34m[\u001b[0m\u001b[0;34m'postMarketPrice'\u001b[0m\u001b[0;34m]\u001b[0m\u001b[0;34m\u001b[0m\u001b[0;34m\u001b[0m\u001b[0m\n\u001b[0m\u001b[1;32m     16\u001b[0m                 \u001b[0mchange\u001b[0m \u001b[0;34m=\u001b[0m \u001b[0minfo\u001b[0m\u001b[0;34m[\u001b[0m\u001b[0;34m'regularMarketChangePercent'\u001b[0m\u001b[0;34m]\u001b[0m\u001b[0;34m\u001b[0m\u001b[0;34m\u001b[0m\u001b[0m\n\u001b[1;32m     17\u001b[0m                 \u001b[0maverage_vol\u001b[0m \u001b[0;34m=\u001b[0m \u001b[0minfo\u001b[0m\u001b[0;34m[\u001b[0m\u001b[0;34m'averageDailyVolume10Day'\u001b[0m\u001b[0;34m]\u001b[0m\u001b[0;34m\u001b[0m\u001b[0;34m\u001b[0m\u001b[0m\n",
      "\u001b[0;31mKeyError\u001b[0m: 'postMarketPrice'"
     ]
    }
   ],
   "source": [
    "all_gappers = t100_gainers + t100_losers\n",
    "data = yf.Tickers(all_gappers)\n",
    "\n",
    "result = tickers_to_data(all_gappers, data)\n",
    "\n",
    "print(result)"
   ]
  }
 ],
 "metadata": {
  "kernelspec": {
   "display_name": "Python 3",
   "language": "python",
   "name": "python3"
  },
  "language_info": {
   "codemirror_mode": {
    "name": "ipython",
    "version": 3
   },
   "file_extension": ".py",
   "mimetype": "text/x-python",
   "name": "python",
   "nbconvert_exporter": "python",
   "pygments_lexer": "ipython3",
   "version": "3.9.1"
  },
  "orig_nbformat": 4
 },
 "nbformat": 4,
 "nbformat_minor": 2
}
