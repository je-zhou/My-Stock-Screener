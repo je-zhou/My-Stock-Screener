{
 "cells": [
  {
   "cell_type": "code",
   "execution_count": 30,
   "metadata": {},
   "outputs": [],
   "source": [
    "### Installing packages\n",
    "# pip install selenium\n",
    "# pip install webdrive_manager\n",
    "# pip install yfinance\n",
    "\n",
    "# Import packages\n",
    "import yfinance as yf\n",
    "import requests\n",
    "\n",
    "from selenium import webdriver \n",
    "from selenium.webdriver.chrome.service import Service as ChromeService \n",
    "from selenium.webdriver.common.by import By\n",
    "from webdriver_manager.chrome import ChromeDriverManager"
   ]
  },
  {
   "attachments": {},
   "cell_type": "markdown",
   "metadata": {},
   "source": [
    "### Strategy\n",
    "\n",
    "The stock screening strategy below is designed to complement the VWAP and ABCD pattern day trading strategies outlined in the book \"Day Trading for a Living\" by\n",
    "\n",
    "#### Pre-Market Gappers\n",
    "Criteria for the Gappers Scanner includes:\n",
    "- Stocks that in the pre-market gapped up or down at least 2%\n",
    "- Stocks that have traded at least 100,000 shares by 9am in pre-market\n",
    "- Stocks that have an average daily volume of over 500,000 shares\n",
    "- Stocks that have Average True Range (ATR) of at least 50 cents\n",
    "- There is a fundamental catalyst for the stock\n",
    "\n",
    "#### Additional Filter\n",
    "We will filter for only Medium Float stocks (20 to 500 million shares) with a price range between $10-$100 and Large float stocks (500+ million shares) with a price range > $20. These stock work best with the VWAP and ABCD pattern trading strategies.\n",
    "\n",
    "#### Human Screen\n",
    "I will review the output manually and do my own research into whether there is a fundamental catalyst for the stock\n"
   ]
  },
  {
   "cell_type": "code",
   "execution_count": 31,
   "metadata": {},
   "outputs": [],
   "source": [
    "# Initialising Selenium and setting options\n",
    "options = webdriver.ChromeOptions() \n",
    "options.headless = True \n",
    "driver = webdriver.Chrome(service=ChromeService(ChromeDriverManager().install()), options=options) "
   ]
  },
  {
   "cell_type": "code",
   "execution_count": 32,
   "metadata": {},
   "outputs": [],
   "source": [
    "# Lets begin by webscraping a list of the top 100 losers and top 100 gainers for the day\n",
    "\n",
    "# Gainers\n",
    "t100_gainers_url = \"https://finance.yahoo.com/screener/predefined/day_gainers?count=100&offset=0\"\n",
    "\n",
    "# Losers\n",
    "t100_losers_url = \"https://finance.yahoo.com/screener/predefined/day_losers?count=100&offset=0\""
   ]
  },
  {
   "cell_type": "code",
   "execution_count": 33,
   "metadata": {},
   "outputs": [],
   "source": [
    "# Function to scrape list stock symbols from Yahoo Finance's screener list\n",
    "def scrape_gappers(url, driver):\n",
    "    # Load page\n",
    "\tdriver.get(url)\n",
    "    \n",
    "\t# Find row element\n",
    "\trow_eles = driver.find_elements(By.CLASS_NAME, 'simpTblRow')\n",
    "\n",
    "\tprint(row_eles)\n",
    "\n",
    "\t# In each row we are interested in the Ticker Symbol and Price. \n",
    "\t# Although we will also be filtering for Volume and Float (Market Cap/Price), we will do this at a later stage once we search for the ticker symbols using the yfinance library. This will save us the trouble of having to parse text with B and M representing billions and millions.\n",
    "\tgappers_list = list(map(row_to_tuple, row_eles))\n",
    "\treturn gappers_list\n",
    "\n",
    "# Function to convert Yahoo Finance row element to a tuple of (Ticker Symbol, Price)\n",
    "def row_to_tuple(row_ele):\n",
    "\t# Getting the Ticker Symbol\n",
    "\tsymbol_ele = row_ele.find_element(By.XPATH,'td[@aria-label=\"Symbol\"]')\n",
    "\tsymbol_str = symbol_ele.text\n",
    "\n",
    "\t# Getting the Price\n",
    "\tprice_ele = row_ele.find_element(By.XPATH,'td[@aria-label=\"Price (Intraday)\"]')\n",
    "\tprice_num = float(price_ele.text)\n",
    "\n",
    "\t# Returning data as a tuple - (Ticker Symbol: String, Price: Float)\n",
    "\treturn (symbol_str, price_num)"
   ]
  },
  {
   "cell_type": "code",
   "execution_count": 34,
   "metadata": {},
   "outputs": [
    {
     "name": "stdout",
     "output_type": "stream",
     "text": [
      "[<selenium.webdriver.remote.webelement.WebElement (session=\"fa9bb58cebd5c70c324aeaafa084eaa1\", element=\"d3d2f3a8-03b2-492c-8bb7-1cd0bfdcf20d\")>, <selenium.webdriver.remote.webelement.WebElement (session=\"fa9bb58cebd5c70c324aeaafa084eaa1\", element=\"01fc0831-da8d-431a-8f1a-6bebd1169e01\")>, <selenium.webdriver.remote.webelement.WebElement (session=\"fa9bb58cebd5c70c324aeaafa084eaa1\", element=\"4bd24a11-32f0-4e1b-8bf5-5ad06176986f\")>, <selenium.webdriver.remote.webelement.WebElement (session=\"fa9bb58cebd5c70c324aeaafa084eaa1\", element=\"ef7a2bdb-1436-44be-92f5-92f755e4f018\")>, <selenium.webdriver.remote.webelement.WebElement (session=\"fa9bb58cebd5c70c324aeaafa084eaa1\", element=\"5acf3acc-96c0-4201-88e8-6f1c6cf3a463\")>, <selenium.webdriver.remote.webelement.WebElement (session=\"fa9bb58cebd5c70c324aeaafa084eaa1\", element=\"f8c83cb9-39ea-4ef3-b38b-96cd6c209c89\")>, <selenium.webdriver.remote.webelement.WebElement (session=\"fa9bb58cebd5c70c324aeaafa084eaa1\", element=\"15099c1c-a983-4344-b3b3-0cee36aa4798\")>, <selenium.webdriver.remote.webelement.WebElement (session=\"fa9bb58cebd5c70c324aeaafa084eaa1\", element=\"aeb549d5-b72f-4a55-b868-0497b3bf93ae\")>, <selenium.webdriver.remote.webelement.WebElement (session=\"fa9bb58cebd5c70c324aeaafa084eaa1\", element=\"4a236f93-5851-4c72-b087-d906f6da13af\")>, <selenium.webdriver.remote.webelement.WebElement (session=\"fa9bb58cebd5c70c324aeaafa084eaa1\", element=\"8006267f-6169-46d9-b4e0-672953da7b6f\")>, <selenium.webdriver.remote.webelement.WebElement (session=\"fa9bb58cebd5c70c324aeaafa084eaa1\", element=\"9e74a87a-7bf3-4123-bf07-e90dd55c9866\")>, <selenium.webdriver.remote.webelement.WebElement (session=\"fa9bb58cebd5c70c324aeaafa084eaa1\", element=\"6d3ecabf-af15-4a77-8e6c-49c4218657ca\")>, <selenium.webdriver.remote.webelement.WebElement (session=\"fa9bb58cebd5c70c324aeaafa084eaa1\", element=\"e46e19c6-bda4-4da1-94b1-f88aeefe5e7e\")>, <selenium.webdriver.remote.webelement.WebElement (session=\"fa9bb58cebd5c70c324aeaafa084eaa1\", element=\"50aa525f-6808-468e-8614-4d6f116a10d8\")>, <selenium.webdriver.remote.webelement.WebElement (session=\"fa9bb58cebd5c70c324aeaafa084eaa1\", element=\"0ab52d02-2773-4d19-825b-cbd368c896fa\")>, <selenium.webdriver.remote.webelement.WebElement (session=\"fa9bb58cebd5c70c324aeaafa084eaa1\", element=\"ebe999c6-0c36-481f-b38c-aecd0fa8fab5\")>, <selenium.webdriver.remote.webelement.WebElement (session=\"fa9bb58cebd5c70c324aeaafa084eaa1\", element=\"abd38567-b2ff-48f0-bc45-ea1115d25eff\")>, <selenium.webdriver.remote.webelement.WebElement (session=\"fa9bb58cebd5c70c324aeaafa084eaa1\", element=\"a8f5ed75-edff-4783-807d-3591542602f8\")>, <selenium.webdriver.remote.webelement.WebElement (session=\"fa9bb58cebd5c70c324aeaafa084eaa1\", element=\"009a2bfa-57f6-4c4f-a6ba-c2927135317a\")>, <selenium.webdriver.remote.webelement.WebElement (session=\"fa9bb58cebd5c70c324aeaafa084eaa1\", element=\"d09046dc-8d9e-40bd-85d2-e52a054f650d\")>, <selenium.webdriver.remote.webelement.WebElement (session=\"fa9bb58cebd5c70c324aeaafa084eaa1\", element=\"3ecd2756-64b3-4a2c-9ab8-4d9545bbdbfb\")>, <selenium.webdriver.remote.webelement.WebElement (session=\"fa9bb58cebd5c70c324aeaafa084eaa1\", element=\"071851ba-f56d-439a-b875-90cbce3ab939\")>, <selenium.webdriver.remote.webelement.WebElement (session=\"fa9bb58cebd5c70c324aeaafa084eaa1\", element=\"87cbd538-c0ab-4fa2-8256-5fbc7c855047\")>, <selenium.webdriver.remote.webelement.WebElement (session=\"fa9bb58cebd5c70c324aeaafa084eaa1\", element=\"904baab5-4726-4fbc-86d7-315ef9a6a416\")>, <selenium.webdriver.remote.webelement.WebElement (session=\"fa9bb58cebd5c70c324aeaafa084eaa1\", element=\"77719228-d351-455d-9b88-0faaeff7e62c\")>, <selenium.webdriver.remote.webelement.WebElement (session=\"fa9bb58cebd5c70c324aeaafa084eaa1\", element=\"d919a31c-d0ac-4310-a3ae-8cbb63e42869\")>, <selenium.webdriver.remote.webelement.WebElement (session=\"fa9bb58cebd5c70c324aeaafa084eaa1\", element=\"cbc46b98-c315-483f-95ba-d6f98182317f\")>, <selenium.webdriver.remote.webelement.WebElement (session=\"fa9bb58cebd5c70c324aeaafa084eaa1\", element=\"31e2a128-e5c3-4628-ade7-67763d2ca5ba\")>, <selenium.webdriver.remote.webelement.WebElement (session=\"fa9bb58cebd5c70c324aeaafa084eaa1\", element=\"4959d93d-ab54-4d26-8189-12e776ff4feb\")>, <selenium.webdriver.remote.webelement.WebElement (session=\"fa9bb58cebd5c70c324aeaafa084eaa1\", element=\"1cb151f2-918c-4a2c-bdeb-73a797e72929\")>, <selenium.webdriver.remote.webelement.WebElement (session=\"fa9bb58cebd5c70c324aeaafa084eaa1\", element=\"6db68049-3b28-4fb3-bd57-f105080d4816\")>, <selenium.webdriver.remote.webelement.WebElement (session=\"fa9bb58cebd5c70c324aeaafa084eaa1\", element=\"e80699f9-f6c6-48b4-a287-55c208478adc\")>, <selenium.webdriver.remote.webelement.WebElement (session=\"fa9bb58cebd5c70c324aeaafa084eaa1\", element=\"d04c5d51-36b3-4b96-b9fd-6ca478258ac3\")>, <selenium.webdriver.remote.webelement.WebElement (session=\"fa9bb58cebd5c70c324aeaafa084eaa1\", element=\"5025b253-6248-4367-a5b7-8564dc0dd419\")>, <selenium.webdriver.remote.webelement.WebElement (session=\"fa9bb58cebd5c70c324aeaafa084eaa1\", element=\"ea567d7b-fad7-4786-86df-c2f9c31d72c8\")>, <selenium.webdriver.remote.webelement.WebElement (session=\"fa9bb58cebd5c70c324aeaafa084eaa1\", element=\"e02ae93e-ccac-41e7-8bfb-e002723a6fb8\")>, <selenium.webdriver.remote.webelement.WebElement (session=\"fa9bb58cebd5c70c324aeaafa084eaa1\", element=\"179667ff-6ac9-48a5-b043-dfb3885e8f48\")>, <selenium.webdriver.remote.webelement.WebElement (session=\"fa9bb58cebd5c70c324aeaafa084eaa1\", element=\"31df0248-b753-45ba-90f5-d61163279896\")>, <selenium.webdriver.remote.webelement.WebElement (session=\"fa9bb58cebd5c70c324aeaafa084eaa1\", element=\"d4a392a0-6c6d-44e4-89b9-25fecd88c757\")>, <selenium.webdriver.remote.webelement.WebElement (session=\"fa9bb58cebd5c70c324aeaafa084eaa1\", element=\"6732e1d7-677d-4c28-acf2-f4f726e22f20\")>, <selenium.webdriver.remote.webelement.WebElement (session=\"fa9bb58cebd5c70c324aeaafa084eaa1\", element=\"1ad28107-8b76-45c6-beb9-5e4c04a09eb9\")>, <selenium.webdriver.remote.webelement.WebElement (session=\"fa9bb58cebd5c70c324aeaafa084eaa1\", element=\"5643dc6c-8e7c-4c5d-ae61-de1db093c7f6\")>, <selenium.webdriver.remote.webelement.WebElement (session=\"fa9bb58cebd5c70c324aeaafa084eaa1\", element=\"fa064972-5e67-42c5-91c0-f205f8be0aef\")>, <selenium.webdriver.remote.webelement.WebElement (session=\"fa9bb58cebd5c70c324aeaafa084eaa1\", element=\"ad8bd7b9-987b-4427-8a55-4ea714650e1c\")>, <selenium.webdriver.remote.webelement.WebElement (session=\"fa9bb58cebd5c70c324aeaafa084eaa1\", element=\"7589a2e5-f223-43b8-90d4-d7b5431ed034\")>, <selenium.webdriver.remote.webelement.WebElement (session=\"fa9bb58cebd5c70c324aeaafa084eaa1\", element=\"e9cd42ef-4140-441f-8982-8e375c2741fd\")>, <selenium.webdriver.remote.webelement.WebElement (session=\"fa9bb58cebd5c70c324aeaafa084eaa1\", element=\"7b60b024-29d0-4039-b1c2-520fe827c26a\")>, <selenium.webdriver.remote.webelement.WebElement (session=\"fa9bb58cebd5c70c324aeaafa084eaa1\", element=\"7b0362b8-3409-4424-bc52-12056c52259a\")>, <selenium.webdriver.remote.webelement.WebElement (session=\"fa9bb58cebd5c70c324aeaafa084eaa1\", element=\"b8c98d17-c9a7-4ebb-9b07-44b752e77578\")>, <selenium.webdriver.remote.webelement.WebElement (session=\"fa9bb58cebd5c70c324aeaafa084eaa1\", element=\"4bcb94c3-a209-47bb-82b8-13f272724827\")>, <selenium.webdriver.remote.webelement.WebElement (session=\"fa9bb58cebd5c70c324aeaafa084eaa1\", element=\"04e0a14a-9c51-4cf4-af22-620b435a06dd\")>, <selenium.webdriver.remote.webelement.WebElement (session=\"fa9bb58cebd5c70c324aeaafa084eaa1\", element=\"ee18318a-744e-4d4f-a1c3-88417d2d0e6d\")>, <selenium.webdriver.remote.webelement.WebElement (session=\"fa9bb58cebd5c70c324aeaafa084eaa1\", element=\"fc5ccb84-0fea-4f10-962f-1f9f9fef4ec7\")>, <selenium.webdriver.remote.webelement.WebElement (session=\"fa9bb58cebd5c70c324aeaafa084eaa1\", element=\"b4f4c3b4-1841-43a7-9041-4a0e24b11cea\")>, <selenium.webdriver.remote.webelement.WebElement (session=\"fa9bb58cebd5c70c324aeaafa084eaa1\", element=\"397d35fc-093e-4632-ab3b-93d489f58257\")>, <selenium.webdriver.remote.webelement.WebElement (session=\"fa9bb58cebd5c70c324aeaafa084eaa1\", element=\"8013d6ce-76d8-434e-9953-302d698ef7da\")>, <selenium.webdriver.remote.webelement.WebElement (session=\"fa9bb58cebd5c70c324aeaafa084eaa1\", element=\"f446d15f-edbd-47ec-a86b-a109f8f937fc\")>, <selenium.webdriver.remote.webelement.WebElement (session=\"fa9bb58cebd5c70c324aeaafa084eaa1\", element=\"0537dbdd-6d7b-4d81-9c79-82f0320aa7b9\")>, <selenium.webdriver.remote.webelement.WebElement (session=\"fa9bb58cebd5c70c324aeaafa084eaa1\", element=\"e3b017d7-14ba-47c4-b5d8-d55c07903fa6\")>, <selenium.webdriver.remote.webelement.WebElement (session=\"fa9bb58cebd5c70c324aeaafa084eaa1\", element=\"ae11f6b6-0f63-43c4-b55a-803fe19d4903\")>, <selenium.webdriver.remote.webelement.WebElement (session=\"fa9bb58cebd5c70c324aeaafa084eaa1\", element=\"062a9659-b283-40d9-82f1-5a6dec098ade\")>, <selenium.webdriver.remote.webelement.WebElement (session=\"fa9bb58cebd5c70c324aeaafa084eaa1\", element=\"8f0172e4-ad59-4bb9-a705-4dffd9a21acb\")>, <selenium.webdriver.remote.webelement.WebElement (session=\"fa9bb58cebd5c70c324aeaafa084eaa1\", element=\"20db2f08-5c3c-42de-aa53-ffdbded53449\")>, <selenium.webdriver.remote.webelement.WebElement (session=\"fa9bb58cebd5c70c324aeaafa084eaa1\", element=\"f683bf32-a4ca-4ac2-92c1-b812eb4529b7\")>, <selenium.webdriver.remote.webelement.WebElement (session=\"fa9bb58cebd5c70c324aeaafa084eaa1\", element=\"40dc0ab2-78a0-4275-a2d2-bc7bfca67bb9\")>, <selenium.webdriver.remote.webelement.WebElement (session=\"fa9bb58cebd5c70c324aeaafa084eaa1\", element=\"f13eb01a-02e4-4fff-b205-e9c45866c26b\")>, <selenium.webdriver.remote.webelement.WebElement (session=\"fa9bb58cebd5c70c324aeaafa084eaa1\", element=\"9362bf72-012d-4853-866a-b758e73778e5\")>, <selenium.webdriver.remote.webelement.WebElement (session=\"fa9bb58cebd5c70c324aeaafa084eaa1\", element=\"312d3c61-3b3e-4996-85cf-9c9ffe136bc9\")>, <selenium.webdriver.remote.webelement.WebElement (session=\"fa9bb58cebd5c70c324aeaafa084eaa1\", element=\"f6656e37-f0d8-4ce6-a530-8df3c56b658a\")>, <selenium.webdriver.remote.webelement.WebElement (session=\"fa9bb58cebd5c70c324aeaafa084eaa1\", element=\"c688a979-7a17-4bed-b5e5-00e296e7d7ba\")>, <selenium.webdriver.remote.webelement.WebElement (session=\"fa9bb58cebd5c70c324aeaafa084eaa1\", element=\"b2e72da6-f03b-4725-b2d7-56b72d6d5e83\")>, <selenium.webdriver.remote.webelement.WebElement (session=\"fa9bb58cebd5c70c324aeaafa084eaa1\", element=\"57377ae0-693c-45ae-bca7-9ad710215f38\")>, <selenium.webdriver.remote.webelement.WebElement (session=\"fa9bb58cebd5c70c324aeaafa084eaa1\", element=\"7b08d82c-1f12-42ab-b502-c6af473b0431\")>, <selenium.webdriver.remote.webelement.WebElement (session=\"fa9bb58cebd5c70c324aeaafa084eaa1\", element=\"c766653f-5a5f-4bcc-a064-411cd9b9fd24\")>, <selenium.webdriver.remote.webelement.WebElement (session=\"fa9bb58cebd5c70c324aeaafa084eaa1\", element=\"6c28287f-fa33-4707-8a5e-31a3c4d23c80\")>, <selenium.webdriver.remote.webelement.WebElement (session=\"fa9bb58cebd5c70c324aeaafa084eaa1\", element=\"f9de580e-59be-4dc6-98bd-fcdab4e0f400\")>, <selenium.webdriver.remote.webelement.WebElement (session=\"fa9bb58cebd5c70c324aeaafa084eaa1\", element=\"f87161b7-fe79-4d2c-8ade-cdea5d163294\")>, <selenium.webdriver.remote.webelement.WebElement (session=\"fa9bb58cebd5c70c324aeaafa084eaa1\", element=\"9f77785c-68b6-44c3-90d3-13c4f0503664\")>, <selenium.webdriver.remote.webelement.WebElement (session=\"fa9bb58cebd5c70c324aeaafa084eaa1\", element=\"634cde77-9c9f-48f2-8c78-0a456db72610\")>, <selenium.webdriver.remote.webelement.WebElement (session=\"fa9bb58cebd5c70c324aeaafa084eaa1\", element=\"aab65a38-e365-4bd0-951b-5b94d0063a02\")>, <selenium.webdriver.remote.webelement.WebElement (session=\"fa9bb58cebd5c70c324aeaafa084eaa1\", element=\"7c7655fe-0499-4b86-93e5-2f7472832a13\")>, <selenium.webdriver.remote.webelement.WebElement (session=\"fa9bb58cebd5c70c324aeaafa084eaa1\", element=\"ab77e460-822f-4f1e-a43e-1b7aaaac812d\")>, <selenium.webdriver.remote.webelement.WebElement (session=\"fa9bb58cebd5c70c324aeaafa084eaa1\", element=\"582bb6ea-a1c9-4521-a4b7-d6bb7832bf79\")>, <selenium.webdriver.remote.webelement.WebElement (session=\"fa9bb58cebd5c70c324aeaafa084eaa1\", element=\"7df95223-984f-4aad-8323-6508c72c0c28\")>, <selenium.webdriver.remote.webelement.WebElement (session=\"fa9bb58cebd5c70c324aeaafa084eaa1\", element=\"bdcdea4e-a543-4834-b3b3-8ccc21658a16\")>, <selenium.webdriver.remote.webelement.WebElement (session=\"fa9bb58cebd5c70c324aeaafa084eaa1\", element=\"446a97a9-5c5b-49d2-b068-981e6c5cad06\")>, <selenium.webdriver.remote.webelement.WebElement (session=\"fa9bb58cebd5c70c324aeaafa084eaa1\", element=\"b2ea1eba-a00d-4888-91d9-d67e34a0f767\")>, <selenium.webdriver.remote.webelement.WebElement (session=\"fa9bb58cebd5c70c324aeaafa084eaa1\", element=\"d3822452-6d5b-42aa-8e8d-b31b4510b461\")>, <selenium.webdriver.remote.webelement.WebElement (session=\"fa9bb58cebd5c70c324aeaafa084eaa1\", element=\"65887bca-50d2-43ac-8f75-38fd7ee7b1c9\")>, <selenium.webdriver.remote.webelement.WebElement (session=\"fa9bb58cebd5c70c324aeaafa084eaa1\", element=\"6b40ced0-4620-4605-8aad-aa0f2c15dfd6\")>, <selenium.webdriver.remote.webelement.WebElement (session=\"fa9bb58cebd5c70c324aeaafa084eaa1\", element=\"e9ef81f4-8cab-4906-a93b-589984327809\")>, <selenium.webdriver.remote.webelement.WebElement (session=\"fa9bb58cebd5c70c324aeaafa084eaa1\", element=\"2810ab8c-beff-4db5-afa4-d5d50b0fad04\")>, <selenium.webdriver.remote.webelement.WebElement (session=\"fa9bb58cebd5c70c324aeaafa084eaa1\", element=\"74130aac-4675-432b-bb4b-0f815cd703cc\")>, <selenium.webdriver.remote.webelement.WebElement (session=\"fa9bb58cebd5c70c324aeaafa084eaa1\", element=\"c3ad80ec-2369-4181-bb1e-5ea479cda725\")>, <selenium.webdriver.remote.webelement.WebElement (session=\"fa9bb58cebd5c70c324aeaafa084eaa1\", element=\"f20d556b-ae71-44c8-90f7-8e62771d3d68\")>, <selenium.webdriver.remote.webelement.WebElement (session=\"fa9bb58cebd5c70c324aeaafa084eaa1\", element=\"98b9ef16-7733-40d4-984e-06071f51e241\")>, <selenium.webdriver.remote.webelement.WebElement (session=\"fa9bb58cebd5c70c324aeaafa084eaa1\", element=\"65c45866-97e9-45e3-b595-5074c9a9185b\")>, <selenium.webdriver.remote.webelement.WebElement (session=\"fa9bb58cebd5c70c324aeaafa084eaa1\", element=\"26affa3a-66f9-4d45-9fe4-a9865f7b03b4\")>, <selenium.webdriver.remote.webelement.WebElement (session=\"fa9bb58cebd5c70c324aeaafa084eaa1\", element=\"c433d99f-3ba8-4033-b026-61d5aa9dfdc0\")>, <selenium.webdriver.remote.webelement.WebElement (session=\"fa9bb58cebd5c70c324aeaafa084eaa1\", element=\"3a5bab22-a386-455f-a678-5253ea3f15e3\")>]\n",
      "[('CHWRF', 0.15), ('AMC', 4.9), ('LYSFF', 5.2), ('HCM', 14.65), ('BGNE', 238.45), ('DNA', 1.35), ('NAAS', 12.36), ('ATAT', 26.2), ('AI', 22.84), ('GETY', 6.21), ('PROK', 9.85), ('DLO', 13.47), ('LU', 1.97), ('KRYS', 84.39), ('ALBHF', 0.73), ('AICAF', 0.925), ('LEGN', 51.27), ('VONOY', 9.62), ('COLB', 21.76), ('PBCRF', 0.5923), ('TEO', 5.37), ('CIOXY', 0.91), ('DEA', 14.1), ('ZTCOF', 3.05), ('CTLT', 64.95), ('LKNCY', 26.86), ('GRFS', 7.51), ('DIDIY', 3.89), ('CFLT', 23.2), ('FLNC', 20.17), ('LESL', 10.95), ('ALNY', 210.99), ('ITCI', 59.3), ('SYM', 25.42), ('WAL', 30.78), ('BUR', 12.27), ('ROKU', 64.08), ('MDGL', 247.58), ('BBSEY', 6.7), ('SYIEY', 28.1), ('GNW', 5.39), ('CD', 6.63), ('FRC', 14.03), ('FOXF', 111.68), ('RLAY', 17.97), ('BABA', 102.74), ('IMCR', 50.57), ('LIFW', 0.6665), ('TECK', 43.97), ('ENV', 62.15), ('RXDX', 112.86), ('HLN', 8.97), ('RYAAY', 94.0), ('EWBC', 53.02), ('RUM', 8.94), ('EDR', 22.84), ('ARGX', 387.36), ('ROIV', 7.38), ('GOOGL', 108.42), ('TTD', 60.85), ('GOOG', 108.9), ('PARAA', 24.98), ('ARGGY', 2.735), ('MRTX', 38.46), ('DOCS', 31.97), ('ETRN', 5.12), ('SRPT', 142.55), ('ELAN', 9.12), ('HLPPY', 9.57), ('ARWR', 26.17), ('HKXCY', 44.91), ('MNDY', 133.87), ('GDS', 17.84), ('RYCEY', 1.81), ('ENLAY', 6.34), ('CMA', 41.28), ('SUPN', 37.09), ('BPMC', 43.83), ('PINS', 28.25), ('DRS', 14.16), ('SHTDY', 15.73), ('HTHT', 50.12), ('IAS', 15.2), ('BTGOF', 1.88), ('CSPCY', 3.92), ('HSHCY', 12.29), ('APPN', 42.18), ('NEWR', 73.79), ('TAK', 17.07), ('FIS', 55.43), ('CAIXY', 1.3), ('PARA', 21.66), ('BMRN', 99.6), ('VIPS', 15.14), ('BTLCY', 4.95), ('BDRBF', 51.06), ('AUOTY', 6.3), ('SRAD', 11.37), ('MPNGY', 34.84), ('VIR', 23.91)]\n"
     ]
    }
   ],
   "source": [
    "# Stock ticker symbols\n",
    "t100_gainers = scrape_gappers(t100_gainers_url, driver)\n",
    "# t100_losers = scrape_gappers(t100_losers_url, driver)\n",
    "\n",
    "print(t100_gainers)\n",
    "\n",
    "#\n"
   ]
  }
 ],
 "metadata": {
  "kernelspec": {
   "display_name": "Python 3",
   "language": "python",
   "name": "python3"
  },
  "language_info": {
   "codemirror_mode": {
    "name": "ipython",
    "version": 3
   },
   "file_extension": ".py",
   "mimetype": "text/x-python",
   "name": "python",
   "nbconvert_exporter": "python",
   "pygments_lexer": "ipython3",
   "version": "3.9.1"
  },
  "orig_nbformat": 4
 },
 "nbformat": 4,
 "nbformat_minor": 2
}
