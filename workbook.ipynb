{
 "cells": [
  {
   "cell_type": "code",
   "execution_count": 64,
   "metadata": {},
   "outputs": [],
   "source": [
    "### Installing packages\n",
    "# pip install selenium\n",
    "# pip install webdrive_manager\n",
    "# pip install yfinance\n",
    "\n",
    "# Import packages\n",
    "import yfinance as yf\n",
    "import requests\n",
    "import pandas as pd\n",
    "from datetime import datetime\n",
    "\n",
    "from selenium import webdriver \n",
    "from selenium.webdriver.chrome.service import Service as ChromeService \n",
    "from selenium.webdriver.common.by import By\n",
    "from webdriver_manager.chrome import ChromeDriverManager"
   ]
  },
  {
   "attachments": {},
   "cell_type": "markdown",
   "metadata": {},
   "source": [
    "### Strategy\n",
    "\n",
    "The stock screening strategy below is designed to complement the VWAP and ABCD pattern day trading strategies outlined in the book \"Day Trading for a Living\" by\n",
    "\n",
    "#### Pre-Market Gappers\n",
    "Criteria for the Gappers Scanner includes:\n",
    "- Stocks that in the pre-market gapped up or down at least 2%\n",
    "- Stocks that have traded at least 100,000 shares by 9am in pre-market\n",
    "- Stocks that have an average daily volume of over 500,000 shares\n",
    "- Stocks that have Average True Range (ATR) of at least 50 cents\n",
    "- There is a fundamental catalyst for the stock\n",
    "\n",
    "#### Additional Filter\n",
    "We will filter for only Medium Float stocks (20 to 500 million shares) with a price range between $10-$100 and Large float stocks (500+ million shares) with a price range > $20. These stock work best with the VWAP and ABCD pattern trading strategies.\n",
    "\n",
    "#### Human Screen\n",
    "I will review the output manually and do my own research into whether there is a fundamental catalyst for the stock\n"
   ]
  },
  {
   "cell_type": "code",
   "execution_count": 49,
   "metadata": {},
   "outputs": [],
   "source": [
    "# Initialising Selenium and setting options\n",
    "options = webdriver.ChromeOptions() \n",
    "options.headless = True \n",
    "driver = webdriver.Chrome(service=ChromeService(ChromeDriverManager().install()), options=options) "
   ]
  },
  {
   "cell_type": "code",
   "execution_count": 50,
   "metadata": {},
   "outputs": [],
   "source": [
    "# Lets begin by webscraping a list of the top 100 losers and top 100 gainers for the day\n",
    "\n",
    "# Gainers\n",
    "t100_gainers_url = \"https://finance.yahoo.com/screener/predefined/day_gainers?count=100&offset=0\"\n",
    "\n",
    "# Losers\n",
    "t100_losers_url = \"https://finance.yahoo.com/screener/predefined/day_losers?count=100&offset=0\""
   ]
  },
  {
   "cell_type": "code",
   "execution_count": 51,
   "metadata": {},
   "outputs": [],
   "source": [
    "# Function to scrape list stock symbols from Yahoo Finance's screener list\n",
    "def scrape_gappers(url, driver):\n",
    "    # Load page\n",
    "\tdriver.get(url)\n",
    "    \n",
    "\t# Find row element\n",
    "\trow_eles = driver.find_elements(By.CLASS_NAME, 'simpTblRow')\n",
    "\n",
    "\t# In each row we are interested in the Ticker Symbol and Price. \n",
    "\t# Although we will also be filtering for Volume and Float (Market Cap/Price), we will do this at a later stage once we search for the ticker symbols using the yfinance library. This will save us the trouble of having to parse text with B and M representing billions and millions.\n",
    "\tgappers_list = list(map(row_to_tuple, row_eles))\n",
    "\treturn gappers_list\n",
    "\n",
    "# Function to convert Yahoo Finance row element to a tuple of (Ticker Symbol, Price)\n",
    "def row_to_tuple(row_ele):\n",
    "\t# Getting the Ticker Symbol\n",
    "\tsymbol_ele = row_ele.find_element(By.XPATH,'td[@aria-label=\"Symbol\"]')\n",
    "\tsymbol_str = symbol_ele.text\n",
    "\n",
    "\t# Getting the Price\n",
    "\tprice_ele = row_ele.find_element(By.XPATH,'td[@aria-label=\"Price (Intraday)\"]')\n",
    "\tprice_num = float(price_ele.text)\n",
    "\n",
    "\t# Returning data as a tuple - (Ticker Symbol: String, Price: Float)\n",
    "\treturn (symbol_str, price_num)"
   ]
  },
  {
   "cell_type": "code",
   "execution_count": 52,
   "metadata": {},
   "outputs": [
    {
     "name": "stdout",
     "output_type": "stream",
     "text": [
      "['HCM', 'BGNE', 'NAAS', 'ATAT', 'AI', 'DLO', 'KRYS', 'LEGN', 'COLB', 'DEA', 'CTLT', 'LKNCY', 'CFLT', 'FLNC', 'LESL', 'ALNY', 'ITCI', 'SYM', 'WAL', 'BUR', 'ROKU', 'MDGL', 'SYIEY', 'FRC', 'FOXF', 'RLAY', 'BABA', 'IMCR', 'TECK', 'ENV', 'RXDX', 'RYAAY', 'EWBC', 'EDR', 'ARGX', 'GOOGL', 'TTD', 'GOOG', 'PARAA', 'MRTX', 'DOCS', 'SRPT', 'ARWR', 'HKXCY', 'MNDY', 'GDS', 'CMA', 'SUPN', 'BPMC', 'PINS', 'DRS', 'SHTDY', 'HTHT', 'IAS', 'HSHCY', 'APPN', 'NEWR', 'TAK', 'FIS', 'PARA', 'BMRN', 'VIPS', 'BDRBF', 'SRAD', 'MPNGY', 'VIR']\n",
      "['LEVI', 'LITE', 'PBI-PB', 'FN', 'SMCI', 'ZGN', 'MOS', 'CVCO', 'TTNDF', 'ABNB', 'NTR', 'GTLS', 'WIRE', 'VRT', 'ATKR', 'FMC', 'PBF', 'CPRI', 'UNVGY', 'SIG', 'RPM', 'KBH', 'SPWR', 'ARCH', 'KMTUY', 'BDC', 'SWAV', 'CRK', 'FRO', 'DKILY', 'WCC', 'ARW', 'MDC', 'FJTSY', 'CVE', 'CEQP', 'OLK', 'PCVX', 'DNUT', 'MPC', 'WIX', 'LSRCY', 'AIT', 'PEN', 'LECO', 'SANM', 'NEOG', 'PVH', 'LRLCY', 'BE', 'LGIH', 'TOELY', 'YPF', 'KTB', 'CIEN', 'MTSI', 'PKX']\n"
     ]
    }
   ],
   "source": [
    "# Stock ticker symbols\n",
    "t100_gainers_all = scrape_gappers(t100_gainers_url, driver)\n",
    "t100_losers_all = scrape_gappers(t100_losers_url, driver)\n",
    "\n",
    "### One criteria of the screener is that the price much be above $10. Lets filter these down based on this.\n",
    "\n",
    "# Function to filter Stocks with prices > $10 and return only the Ticker Symbol\n",
    "def stocks_above_10(sym_pri_tuple_lst):\n",
    "\tSYMBOL_TUPLE_INDEX = 0\n",
    "\tPRICE_TUPLE_INDEX = 1\n",
    "\n",
    "\tstocks_above_10 = []\n",
    "\n",
    "\tfor tuple in sym_pri_tuple_lst:\n",
    "\t\tprice = tuple[PRICE_TUPLE_INDEX]\n",
    "\n",
    "\t\tif (price > 10):\n",
    "\t\t\tsymbol = tuple[SYMBOL_TUPLE_INDEX]\n",
    "\t\t\tstocks_above_10.append(symbol)\n",
    "\t\n",
    "\treturn stocks_above_10\n",
    "\n",
    "# Filtered Lists\n",
    "t100_gainers = stocks_above_10(t100_gainers_all)\n",
    "t100_losers = stocks_above_10(t100_losers_all)\n",
    "\n",
    "print(t100_gainers)\n",
    "print(t100_losers)"
   ]
  },
  {
   "cell_type": "code",
   "execution_count": 53,
   "metadata": {},
   "outputs": [],
   "source": [
    "# Great! Now that we have our list of gapping stocks above $10, lets get more detailed information about these with the yfinance package.\n",
    "# We want information in the following data structure (Ticker Symbol: String, Price: float, Change: float, AverageVolume: int, Float: float, AverageTrueRange: float)\n",
    "\n",
    "# Function to get the latest price and average true range\n",
    "def stock_price_atr(tickerdata):\n",
    "    hist = tickerdata.history(interval='5m')\n",
    "    price = hist.iloc[-1,3]\n",
    "    \n",
    "\t# We will use a 14 period price range on the 5 min interval chart to determine the average true range\n",
    "    hist['Range'] = hist['Close'].rolling(14).apply(lambda x: abs(x.iloc[13] - x.iloc[0]))\n",
    "    # Because the trading day is from 9:30AM to 4:00PM, there are total of 78 5 Min intervals. We will use this to calculate the average 14 period 5-min range\n",
    "    NUM_5_MIN_INTERVALS = 78\n",
    "    avg_true_range= hist.tail(78)['Range'].mean()\n",
    "    \n",
    "    return price, avg_true_range\n",
    "\n",
    "def stock_avg_vol(tickerdata):\n",
    "\thist = tickerdata.history(interval='1d')\n",
    "\treturn hist.tail(10)['Volume'].mean()\n",
    "\t\n",
    "# Function to convert ticker symbol to (Ticker Symbol: String, Name: String, Price: float, Change: float, AverageVolume: int, Float: float, AverageTrueRange: float) data format\n",
    "def tickers_to_data(tickers, data):\n",
    "\tresult = []\n",
    "        \n",
    "\tfor ticker in tickers:\n",
    "\t\tticker_data = data.tickers[ticker]\n",
    "\n",
    "\t\t### Getting data\n",
    "\t\tinfo = ticker_data.info\n",
    "\n",
    "\t\tname = info['longName']\n",
    "\t\tprice, avg_true_range = stock_price_atr(ticker_data)\n",
    "\t\tchange = info['regularMarketChangePercent']\n",
    "\t\taverage_vol = stock_avg_vol(ticker_data)\n",
    "\t\t# Float Calculations\n",
    "\t\tmarket_cap = info['marketCap']\n",
    "\t\tticker_float = market_cap/price\n",
    "\n",
    "\t\t### Apply Filters\n",
    "\t\t# Needs to be at least medium float (> 20 million shares)\n",
    "\t\tfloat_satisfied = ticker_float > 20,000,000\n",
    "\t\t# Needs to have an average volume of > 500,000\n",
    "\t\tavg_vol_satisfied = average_vol > 500,000\n",
    "\t\t# Needs to have a range of > $0.50\n",
    "\t\trange_satisfied = avg_true_range > 0.5\n",
    "\n",
    "\t\tif (float_satisfied and avg_vol_satisfied and range_satisfied):\n",
    "\t\t\tticker_res = (ticker, name, price, change, average_vol, ticker_float, avg_true_range)\n",
    "\t\t\tresult.append(ticker_res)\n",
    "\t\t\n",
    "\t\t# news = ticker_data.news\n",
    "\n",
    "\treturn result\n",
    "\t\n"
   ]
  },
  {
   "cell_type": "code",
   "execution_count": 54,
   "metadata": {},
   "outputs": [
    {
     "name": "stdout",
     "output_type": "stream",
     "text": [
      "DRS: No data found for this date range, symbol may be delisted\n",
      "[('BGNE', 'BeiGene, Ltd.', 238.10499572753906, 12.476414, 230860.0, 104616362.69280075, 4.545689509465144), ('AI', 'C3.ai, Inc.', 22.836299896240234, 8.29777, 40080010.0, 112228181.7827218, 0.5964205815241888), ('KRYS', 'Krystal Biotech, Inc.', 84.4000015258789, 7.5305758, 232330.0, 25760645.60062055, 1.0430126679249299), ('LEGN', 'Legend Biotech Corporation', 51.310001373291016, 6.4355454, 578670.0, 164938325.89147687, 0.5753437922551081), ('CTLT', 'Catalent, Inc.', 64.94999694824219, 5.40409, 1369990.0, 180089997.68423492, 0.7837925935402895), ('ALNY', 'Alnylam Pharmaceuticals, Inc.', 211.0, 5.0642357, 822830.0, 124218120.492891, 1.6744676247621193), ('ROKU', 'Roku, Inc.', 64.07009887695312, 4.58626, 11424380.0, 140130643.61337474, 0.7354590098063151), ('MDGL', 'Madrigal Pharmaceuticals, Inc.', 248.17999267578125, 4.578861, 281480.0, 18094150.264024153, 2.314168685521835), ('FOXF', 'Fox Factory Holding Corp.', 111.68000030517578, 4.325079, 259990.0, 42301097.87867773, 1.7788734436035156), ('BABA', 'Alibaba Group Holding Limited', 102.75, 4.25164, 39803830.0, 2587248226.4136252, 0.7588780721028646), ('IMCR', 'Immunocore Holdings plc', 50.5099983215332, 4.182115, 269740.0, 48176363.35106763, 0.6687500782502003), ('RXDX', 'Prometheus Biosciences, Inc.', 113.25, 3.941793, 400090.0, 47366618.70198675, 1.3274872608673878), ('RYAAY', 'Ryanair Holdings plc', 94.05000305175781, 3.8674035, 291310.0, 227613928.6908816, 0.623166989057492), ('EWBC', 'East West Bancorp, Inc.', 53.040000915527344, 3.8386192, 1787720.0, 140950827.12963167, 0.5207885350936499), ('ARGX', 'argenx SE', 387.3599853515625, 3.799773, 215220.0, 55570501.564490445, 2.806924281976162), ('GOOGL', 'Alphabet Inc.', 108.4000015258789, 3.7809868, 31873630.0, 12835767119.097544, 0.7971001649514223), ('TTD', 'The Trade Desk, Inc.', 60.869998931884766, 3.7687569, 2852350.0, 490633753.1797829, 0.5157694205259665), ('GOOG', 'Alphabet Inc.', 108.85240173339844, 3.7637014, 25244200.0, 12782486762.798592, 0.7775655893179086), ('SRPT', 'Sarepta Therapeutics, Inc.', 142.60000610351562, 3.642584, 966910.0, 87951054.63667156, 0.898379399226262), ('MNDY', 'monday.com Ltd.', 133.72999572753906, 3.4863904, 536570.0, 43765771.35263253, 1.339938237116887), ('BMRN', 'BioMarin Pharmaceutical Inc.', 99.63999938964844, 3.137619, 1083240.0, 186454101.82459405, 0.6336219005095654), ('BDRBF', 'Bombardier Inc.', 51.0629997253418, 3.11591, 22540.0, 94442899.04509169, 0.8900731404622396), ('LEVI', 'Levi Strauss & Co.', 15.130000114440918, -16.0288, 4480510.0, 396638986.028306, 0.501543558560885), ('LITE', 'Lumentum Holdings Inc.', 46.310001373291016, -9.7057085, 1030570.0, 68529583.80239555, 0.994735619960687), ('FN', 'Fabrinet', 102.63999938964844, -8.61163, 251090.0, 36601468.02747236, 2.215772188626803), ('SMCI', 'Super Micro Computer, Inc.', 100.69999694824219, -6.794406, 1743450.0, 53631874.51510916, 1.87767821091872), ('CVCO', 'Cavco Industries, Inc.', 277.3399963378906, -5.6542134, 70960.0, 8693072.992842663, 3.6979248829377003), ('ABNB', 'Airbnb, Inc.', 109.66999816894531, -4.8985558, 5244640.0, 631444181.0176787, 1.34113282423753), ('NTR', 'Nutrien Ltd.', 68.0, -4.7879, 1794120.0, 499886501.64705884, 0.6373004424266326), ('GTLS', 'Chart Industries, Inc.', 106.63999938964844, -4.39304, 622900.0, 42721402.19500258, 0.6371946090306991), ('WIRE', 'Encore Wire Corporation', 159.39500427246094, -4.2937837, 218360.0, 17961881.083211925, 1.1777488512870593), ('ATKR', 'Atkore Inc.', 121.87999725341797, -4.12898, 508240.0, 39511185.39974329, 0.7937334500826322), ('FMC', 'FMC Corporation', 116.94000244140625, -4.06958, 779140.0, 125120590.6493057, 0.9075668530586438), ('SIG', 'Signet Jewelers Limited', 71.9800033569336, -3.75769, 706800.0, 45215515.979640394, 0.6365781930776743), ('RPM', 'RPM International Inc.', 81.16999816894531, -3.72347, 932520.0, 128964773.14453064, 0.9452630067482973), ('ARCH', 'Arch Resources, Inc.', 131.11000061035156, -3.58194, 490160.0, 18733541.3970403, 0.7353433462289664), ('SWAV', 'Shockwave Medical, Inc.', 223.00999450683594, -3.4415574, 406960.0, 36501948.18398812, 1.6289187700320513), ('WCC', 'WESCO International, Inc.', 133.8800048828125, -3.36244, 598870.0, 51118677.78904303, 0.7597742325220352), ('ARW', 'Arrow Electronics, Inc.', 115.72000122070312, -3.32498, 456780.0, 57573899.42723264, 0.6948485741248498), ('MPC', 'Marathon Petroleum Corporation', 128.66000366210938, -3.03671, 4204870.0, 441694595.6044309, 0.7866424169295874), ('WIX', 'Wix.com Ltd.', 93.37999725341797, -3.0315597, 566910.0, 58799292.36985521, 0.7764091491699219), ('PEN', 'Penumbra, Inc.', 274.2799987792969, -2.97625, 279370.0, 38162196.81560709, 1.66845703125), ('LECO', 'Lincoln Electric Holdings, Inc.', 154.0399932861328, -2.945995, 388260.0, 57649846.39738647, 0.739616198417468), ('PVH', 'PVH Corp.', 83.80000305175781, -2.80677, 1733210.0, 62712800.389209084, 0.5691079359788161), ('LRLCY', \"L'Oréal S.A.\", 89.80000305175781, -2.78229, 72510.0, 2675930027.9032254, 0.6261691558055389), ('LGIH', 'LGI Homes, Inc.', 107.72000122070312, -2.7288306, 207720.0, 23501517.446264613, 1.3093897501627605), ('CIEN', 'Ciena Corporation', 50.459999084472656, -2.66101, 2028810.0, 149219125.33916348, 0.7410999689346704), ('MTSI', 'MACOM Technology Solutions Holdings, Inc.', 63.83000183105469, -2.6227527, 438030.0, 70768143.85742846, 0.5878206888834635)]\n"
     ]
    }
   ],
   "source": [
    "all_gappers = t100_gainers + t100_losers\n",
    "data = yf.Tickers(all_gappers)\n",
    "\n",
    "result = tickers_to_data(all_gappers, data)\n",
    "\n",
    "print(result)"
   ]
  },
  {
   "cell_type": "code",
   "execution_count": 63,
   "metadata": {},
   "outputs": [],
   "source": [
    "# Now lets pop this data into a pandas dataframe and export into excel\n",
    "\n",
    "df = pd.DataFrame(result,columns=['Ticker', 'Name', 'Price', 'Change', 'Average Vol', 'Float', 'ATR'])\n",
    "\n",
    "today = datetime.today().strftime('%d-%m-%Y')\n",
    "\n",
    "df.to_csv(today + ' - gappers.xlsx')"
   ]
  }
 ],
 "metadata": {
  "kernelspec": {
   "display_name": "Python 3",
   "language": "python",
   "name": "python3"
  },
  "language_info": {
   "codemirror_mode": {
    "name": "ipython",
    "version": 3
   },
   "file_extension": ".py",
   "mimetype": "text/x-python",
   "name": "python",
   "nbconvert_exporter": "python",
   "pygments_lexer": "ipython3",
   "version": "3.9.1"
  },
  "orig_nbformat": 4
 },
 "nbformat": 4,
 "nbformat_minor": 2
}
