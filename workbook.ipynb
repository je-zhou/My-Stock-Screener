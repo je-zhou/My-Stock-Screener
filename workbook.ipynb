{
 "cells": [
  {
   "attachments": {},
   "cell_type": "markdown",
   "metadata": {},
   "source": [
    "### Strategy\n",
    "\n",
    "The stock screening strategy below is designed to complement the VWAP and ABCD pattern day trading strategies outlined in the book \"Day Trading for a Living\" by\n",
    "\n",
    "#### Pre-Market Gappers\n",
    "Criteria for the Gappers Scanner includes:\n",
    "- Stocks that in the pre-market gapped up or down at least 2%\n",
    "- Stocks that have traded at least 100,000 shares by 9am in pre-market\n",
    "- Stocks that have an average daily volume of over 500,000 shares\n",
    "- Stocks that have Average True Range (ATR) of at least 50 cents\n",
    "- There is a fundamental catalyst for the stock\n",
    "\n",
    "#### Additional Filter\n",
    "We will filter for only Medium Float stocks (20 to 500 million shares) with a price range between $10-$100 and Large float stocks (500+ million shares) with a price range > $20. These stock work best with the VWAP and ABCD pattern trading strategies.\n",
    "\n",
    "#### Human Screen\n",
    "I will review the output manually and do my own research into whether there is a fundamental catalyst for the stock\n"
   ]
  },
  {
   "cell_type": "code",
   "execution_count": 8,
   "metadata": {},
   "outputs": [],
   "source": [
    "### Installing packages\n",
    "# pip install selenium\n",
    "# pip install webdrive_manager\n",
    "# pip install yfinance\n",
    "\n",
    "# Import packages\n",
    "import yfinance as yf\n",
    "import requests\n",
    "import pandas as pd\n",
    "from datetime import datetime\n",
    "\n",
    "from selenium import webdriver \n",
    "from selenium.webdriver.chrome.service import Service as ChromeService \n",
    "from selenium.webdriver.common.by import By\n",
    "from webdriver_manager.chrome import ChromeDriverManager"
   ]
  },
  {
   "cell_type": "code",
   "execution_count": 9,
   "metadata": {},
   "outputs": [],
   "source": [
    "# Initialising Selenium and setting options\n",
    "options = webdriver.ChromeOptions() \n",
    "options.headless = True \n",
    "driver = webdriver.Chrome(service=ChromeService(ChromeDriverManager().install()), options=options) "
   ]
  },
  {
   "cell_type": "code",
   "execution_count": 10,
   "metadata": {},
   "outputs": [],
   "source": [
    "# Lets begin by webscraping a list of the top 100 losers and top 100 gainers for the day\n",
    "\n",
    "# Gainers\n",
    "t100_gainers_url = \"https://finance.yahoo.com/screener/predefined/day_gainers?count=100&offset=0\"\n",
    "\n",
    "# Losers\n",
    "t100_losers_url = \"https://finance.yahoo.com/screener/predefined/day_losers?count=100&offset=0\""
   ]
  },
  {
   "cell_type": "code",
   "execution_count": 11,
   "metadata": {},
   "outputs": [],
   "source": [
    "# Function to scrape list stock symbols from Yahoo Finance's screener list\n",
    "def scrape_gappers(url, driver):\n",
    "    # Load page\n",
    "\tdriver.get(url)\n",
    "    \n",
    "\t# Find row element\n",
    "\trow_eles = driver.find_elements(By.CLASS_NAME, 'simpTblRow')\n",
    "\n",
    "\t# In each row we are interested in the Ticker Symbol and Price. \n",
    "\t# Although we will also be filtering for Volume and Float (Market Cap/Price), we will do this at a later stage once we search for the ticker symbols using the yfinance library. This will save us the trouble of having to parse text with B and M representing billions and millions.\n",
    "\tgappers_list = list(map(row_to_tuple, row_eles))\n",
    "\treturn gappers_list\n",
    "\n",
    "# Function to convert Yahoo Finance row element to a tuple of (Ticker Symbol, Price)\n",
    "def row_to_tuple(row_ele):\n",
    "\t# Getting the Ticker Symbol\n",
    "\tsymbol_ele = row_ele.find_element(By.XPATH,'td[@aria-label=\"Symbol\"]')\n",
    "\tsymbol_str = symbol_ele.text\n",
    "\n",
    "\t# Getting the Price\n",
    "\tprice_ele = row_ele.find_element(By.XPATH,'td[@aria-label=\"Price (Intraday)\"]')\n",
    "\tprice_num = float(price_ele.text)\n",
    "\n",
    "\t# Returning data as a tuple - (Ticker Symbol: String, Price: Float)\n",
    "\treturn (symbol_str, price_num)"
   ]
  },
  {
   "cell_type": "code",
   "execution_count": 12,
   "metadata": {},
   "outputs": [
    {
     "name": "stdout",
     "output_type": "stream",
     "text": [
      "['RIOT', 'TGTX', 'ZIM', 'XP', 'STNE', 'PSMT', 'ZLAB', 'SWAV', 'KMX', 'ASND', 'FSLY', 'FNLPF', 'NCMGF', 'SYM', 'BGNE', 'VALE', 'CSAN', 'ASAI', 'VLVLY', 'NCMGY', 'ARRY', 'LAD', 'FQVLF', 'MANU', 'FLNC', 'MSTR', 'PBR-A', 'PBR', 'COIN', 'HCM', 'MHK', 'SHLS', 'DOCS', 'PROK', 'ENVX', 'CACC', 'CF', 'PGNY', 'RDN', 'AFRM', 'SBS', 'FHI', 'XPO', 'GGAL', 'SSUMY', 'WXXWY', 'MRTX', 'SAGE', 'ABG', 'LYFT', 'NFE', 'MOS', 'ERJ', 'TPX', 'FSUGY', 'BPMC', 'BLDR', 'SIG', 'NARI', 'TGS', 'VAL', 'LCII']\n",
      "['NAAS', 'EVO', 'SNOW', 'CALX', 'BRZE', 'MDGL', 'BEKE', 'PCVX', 'CYBR', 'BRBR', 'SITM', 'TCEHY', 'CXM', 'MRNA', 'WBD', 'ATAT', 'PHI', 'OLK', 'SYNA', 'MLCO', 'EXTR', 'CTLT', 'FN', 'EBC', 'PLTK', 'CORT', 'SPLK']\n"
     ]
    }
   ],
   "source": [
    "# Stock ticker symbols\n",
    "t100_gainers_all = scrape_gappers(t100_gainers_url, driver)\n",
    "t100_losers_all = scrape_gappers(t100_losers_url, driver)\n",
    "\n",
    "### One criteria of the screener is that the price much be above $10. Lets filter these down based on this.\n",
    "\n",
    "# Function to filter Stocks with prices > $10 and return only the Ticker Symbol\n",
    "def stocks_above_10(sym_pri_tuple_lst):\n",
    "\tSYMBOL_TUPLE_INDEX = 0\n",
    "\tPRICE_TUPLE_INDEX = 1\n",
    "\n",
    "\tstocks_above_10 = []\n",
    "\n",
    "\tfor tuple in sym_pri_tuple_lst:\n",
    "\t\tprice = tuple[PRICE_TUPLE_INDEX]\n",
    "\n",
    "\t\tif (price > 10):\n",
    "\t\t\tsymbol = tuple[SYMBOL_TUPLE_INDEX]\n",
    "\t\t\tstocks_above_10.append(symbol)\n",
    "\t\n",
    "\treturn stocks_above_10\n",
    "\n",
    "# Filtered Lists\n",
    "t100_gainers = stocks_above_10(t100_gainers_all)\n",
    "t100_losers = stocks_above_10(t100_losers_all)\n",
    "\n",
    "print(t100_gainers)\n",
    "print(t100_losers)"
   ]
  },
  {
   "cell_type": "code",
   "execution_count": 13,
   "metadata": {},
   "outputs": [],
   "source": [
    "# Great! Now that we have our list of gapping stocks above $10, lets get more detailed information about these with the yfinance package.\n",
    "# We want information in the following data structure (Ticker Symbol: String, Price: float, Change: float, AverageVolume: int, Float: float, AverageTrueRange: float)\n",
    "\n",
    "# Function to get the latest price and average true range\n",
    "def stock_price_atr(tickerdata):\n",
    "\tprice = 0\n",
    "\tavg_true_range = 0\n",
    "\t\n",
    "\ttry:\n",
    "\t\thist = tickerdata.history(interval='5m')\n",
    "\t\tprice = hist.iloc[-1,3]\n",
    "\t\t\n",
    "\t\t# We will use a 14 period price range on the 5 min interval chart to determine the average true range\n",
    "\t\thist['Range'] = hist['Close'].rolling(14).apply(lambda x: abs(x.iloc[13] - x.iloc[0]))\n",
    "   \t\t# Because the trading day is from 9:30AM to 4:00PM, there are total of 78 5 Min intervals. We will use this to calculate the average 14 period 5-min range\n",
    "\t\tNUM_5_MIN_INTERVALS = 78\n",
    "\t\tavg_true_range= hist.tail(78)['Range'].mean()\n",
    "\texcept:\n",
    "\t\tprint(\"No data found for \" + tickerdata)\n",
    "    \n",
    "\treturn price, avg_true_range\n",
    "\n",
    "def stock_avg_vol(tickerdata):\n",
    "\thist = tickerdata.history(interval='1d')\n",
    "\treturn hist.tail(10)['Volume'].mean()\n",
    "\t\n",
    "# Function to convert ticker symbol to (Ticker Symbol: String, Name: String, Price: float, Change: float, AverageVolume: int, Float: float, AverageTrueRange: float) data format\n",
    "def tickers_to_data(tickers, data):\n",
    "\tresult = []\n",
    "        \n",
    "\tfor ticker in tickers:\n",
    "\t\tticker_data = data.tickers[ticker]\n",
    "\n",
    "\t\t### Getting data\n",
    "\t\tinfo = ticker_data.info\n",
    "\n",
    "\t\tname = info['longName']\n",
    "\t\tprice, avg_true_range = stock_price_atr(ticker_data)\n",
    "\t\tchange = info['regularMarketChangePercent']\n",
    "\t\taverage_vol = stock_avg_vol(ticker_data)\n",
    "\t\t# Float Calculations\n",
    "\t\tmarket_cap = info['marketCap']\n",
    "\t\tticker_float = market_cap/price\n",
    "\n",
    "\t\t### Apply Filters\n",
    "\t\t# Needs to be at least medium float (> 20 million shares)\n",
    "\t\tfloat_satisfied = ticker_float > 20,000,000\n",
    "\t\t# Needs to have an average volume of > 500,000\n",
    "\t\tavg_vol_satisfied = average_vol > 500,000\n",
    "\t\t# Needs to have a range of > $0.50\n",
    "\t\trange_satisfied = avg_true_range > 0.5\n",
    "\n",
    "\t\tif (float_satisfied and avg_vol_satisfied and range_satisfied):\n",
    "\t\t\tticker_res = (ticker, name, price, change, average_vol, ticker_float, avg_true_range)\n",
    "\t\t\tresult.append(ticker_res)\n",
    "\t\t\n",
    "\t\t# news = ticker_data.news\n",
    "\n",
    "\treturn result\n",
    "\t\n"
   ]
  },
  {
   "cell_type": "code",
   "execution_count": 14,
   "metadata": {},
   "outputs": [
    {
     "name": "stdout",
     "output_type": "stream",
     "text": [
      "[('TGTX', 'TG Therapeutics, Inc.', 21.93000030517578, 15.360337, 5186680.0, 146363007.5391498, 0.7525448921399239), ('PSMT', 'PriceSmart, Inc.', 79.0, 11.6815195, 120860.0, 31039108.860759493, 1.5335330474071014), ('ZLAB', 'Zai Lab Limited', 37.0099983215332, 11.378683, 555790.0, 97882251.18325071, 0.6415718274238782), ('SWAV', 'Shockwave Medical, Inc.', 251.1199951171875, 10.64346, 522370.0, 36485228.3615424, 5.118629259940906), ('KMX', 'CarMax, Inc.', 72.2300033569336, 9.641662, 3060000.0, 157980240.2003437, 1.4463869730631511), ('ASND', 'Ascendis Pharma A/S', 80.08999633789062, 8.468617, 1856460.0, 57216530.02288914, 1.1321868896484375), ('SYM', 'Symbotic Inc.', 27.834999084472656, 7.3245935, 455000.0, 555618776.241573, 0.5307347224308894), ('BGNE', 'BeiGene, Ltd.', 252.2100067138672, 7.2170243, 243310.0, 104361451.94612059, 3.777308928660857), ('LAD', 'Lithia Motors, Inc.', 227.61000061035156, 6.548402, 330400.0, 27483616.00643791, 3.250077663323818), ('MSTR', 'MicroStrategy Incorporated', 332.32000732421875, 6.2567964, 848330.0, 12899064.135545356, 5.645752344376001), ('COIN', 'Coinbase Global, Inc.', 70.13999938964844, 6.1394305, 14482080.0, 231639021.57657883, 1.4474434485802283), ('MHK', 'Mohawk Industries, Inc.', 100.12000274658203, 5.701015, 546750.0, 63679599.37174147, 1.0140337821764824), ('CACC', 'Credit Acceptance Corporation', 456.20001220703125, 5.249071, 50170.0, 12832274.062595418, 5.245387150691106), ('CF', 'CF Industries Holdings, Inc.', 77.56999969482422, 5.22317, 2706100.0, 195948730.64069623, 0.7337578015449719), ('ABG', 'Asbury Automotive Group, Inc.', 205.35000610351562, 4.530181, 212180.0, 21699556.67668087, 1.9323000785632012), ('BLDR', 'Builders FirstSource, Inc.', 92.37999725341797, 4.23155, 2041330.0, 137997072.90561032, 0.732090583214393), ('SIG', 'Signet Jewelers Limited', 75.80000305175781, 4.207339, 758000.0, 45215832.69145421, 0.568333258995643), ('NARI', 'Inari Medical, Inc.', 65.80000305175781, 4.1297417, 756990.0, 55570139.185613886, 0.7655482658973107), ('VAL', 'Valaris Limited', 65.73999786376953, 4.1178308, 833150.0, 75181104.23797026, 0.6465923113700671), ('LCII', 'LCI Industries', 112.06999969482422, 4.1155705, 156380.0, 25297999.10520511, 0.959231939071264), ('SNOW', 'Snowflake Inc.', 139.1999969482422, -5.8063216, 5718370.0, 324976676.54992896, 2.164009485489283), ('CALX', 'Calix, Inc.', 53.15999984741211, -5.107144, 502850.0, 66200381.830349445, 0.53827026562813), ('MDGL', 'Madrigal Pharmaceuticals, Inc.', 234.0800018310547, -4.5856605, 271340.0, 18138000.131529093, 2.6967435005383615), ('CYBR', 'CyberArk Software Ltd.', 132.30999755859375, -3.9599698, 377870.0, 41104944.23969366, 1.45403563670623), ('SITM', 'SiTime Corporation', 130.89999389648438, -3.4749827, 156850.0, 21689997.03884825, 0.9941672300681089), ('MRNA', 'Moderna, Inc.', 155.24000549316406, -3.0596278, 3037820.0, 385702844.7904599, 2.4483546721629605), ('SYNA', 'Synaptics Incorporated', 99.12999725341797, -2.814556, 404950.0, 39383877.294169776, 0.5538717416616586), ('FN', 'Fabrinet', 101.47000122070312, -2.684824, 282170.0, 36615815.54452508, 0.5435446714743589), ('SPLK', 'Splunk Inc.', 90.7699966430664, -2.512343, 1241920.0, 165554712.56754628, 0.592558347261869)]\n"
     ]
    }
   ],
   "source": [
    "all_gappers = t100_gainers + t100_losers\n",
    "data = yf.Tickers(all_gappers)\n",
    "\n",
    "result = tickers_to_data(all_gappers, data)\n",
    "\n",
    "print(result)"
   ]
  },
  {
   "cell_type": "code",
   "execution_count": 15,
   "metadata": {},
   "outputs": [],
   "source": [
    "# Now lets pop this data into a pandas dataframe and export into excel\n",
    "\n",
    "df = pd.DataFrame(result,columns=['Ticker', 'Name', 'Price', 'Change', 'Average Vol', 'Float', 'ATR'])\n",
    "\n",
    "today = datetime.today().strftime('%d-%m-%Y')\n",
    "\n",
    "df.to_csv(today + ' - gappers.csv')"
   ]
  }
 ],
 "metadata": {
  "kernelspec": {
   "display_name": "Python 3",
   "language": "python",
   "name": "python3"
  },
  "language_info": {
   "codemirror_mode": {
    "name": "ipython",
    "version": 3
   },
   "file_extension": ".py",
   "mimetype": "text/x-python",
   "name": "python",
   "nbconvert_exporter": "python",
   "pygments_lexer": "ipython3",
   "version": "3.9.1"
  },
  "orig_nbformat": 4
 },
 "nbformat": 4,
 "nbformat_minor": 2
}
